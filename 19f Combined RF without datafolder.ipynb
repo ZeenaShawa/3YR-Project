{
 "cells": [
  {
   "cell_type": "code",
   "execution_count": 3,
   "metadata": {},
   "outputs": [],
   "source": [
    "# Load Libraries\n",
    "\n",
    "import os\n",
    "import numpy as np\n",
    "import nibabel as nib\n",
    "import matplotlib.pyplot as plt\n",
    "from scipy.optimize import least_squares\n",
    "from numpy import linalg as la\n",
    "from random import sample\n",
    "\n",
    "from sklearn.ensemble import RandomForestClassifier\n",
    "from sklearn.datasets import make_classification\n",
    "from sklearn.metrics import confusion_matrix\n",
    "from sklearn.model_selection import GridSearchCV\n",
    "from sklearn.feature_selection import RFE\n",
    "\n",
    "# import pandas as pd\n",
    "\n",
    "# Setting Constants\n",
    "\n",
    "TI_limit = 25; \n",
    "TR = 7500; # (7.5 sesconds) T1 affects next slive"
   ]
  },
  {
   "cell_type": "code",
   "execution_count": 4,
   "metadata": {},
   "outputs": [],
   "source": [
    "def output_image(file_name, mask_name):\n",
    "    # Loading in Image\n",
    "\n",
    "    img_nifti = nib.load(file_name)\n",
    "\n",
    "    img =img_nifti.dataobj[:,:,:,:]\n",
    "\n",
    "    # Loading in Mask \n",
    "\n",
    "    mask_nifti = nib.load(mask_name)\n",
    "\n",
    "    mask = mask_nifti.dataobj[:,:,:]\n",
    "\n",
    "    # Final Image \n",
    "\n",
    "    arr = img.copy()\n",
    "    for i in range (0,1344):\n",
    "        arr[:,:,:,i] = mask*img[:,:,:,i]; \n",
    "        \n",
    "    return arr, mask"
   ]
  },
  {
   "cell_type": "code",
   "execution_count": 5,
   "metadata": {},
   "outputs": [],
   "source": [
    "# Training Images\n",
    "arr1, mask1 = output_image(\"cdmri11_r.nii\", \"cdmri11_mask.nii\")\n",
    "# arr2, mask2 = output_image(\"cdmri12_r.nii\", \"cdmri12_mask.nii\")\n",
    "\n",
    "# Validation Image\n",
    "# arr3, mask3 = output_image(\"cdmri13_r.nii\", \"cdmri13_mask.nii\")\n",
    "\n",
    "# Test Images\n",
    "# arr4, mask4 = output_image(\"cdmri14_r.nii\", \"cdmri14_mask.nii\")\n",
    "# arr5, mask5 = output_image(\"cdmri15_r.nii\", \"cdmri15_mask.nii\")"
   ]
  },
  {
   "cell_type": "code",
   "execution_count": 6,
   "metadata": {},
   "outputs": [],
   "source": [
    "# Importing Parameters\n",
    "\n",
    "p = np.loadtxt('parameters_new.txt')\n",
    "p.shape\n",
    "\n",
    "param = np.zeros([1344,6])\n",
    "param = p.copy()\n",
    "# Switching first two columns as:\n",
    "# [x y z] --> [y -x z] (scanner to measurement coordinate system)\n",
    "param[:, 0], param[:, 1] = p[:, 1], p[:, 0].copy()\n",
    "param[:,1] = -param[:,1]\n",
    "\n",
    "b = p[:,3]\n",
    "TI = p[:,4]\n",
    "TE = p[:,5]\n",
    "\n",
    "# Filter based on TI fulfilling condition\n",
    "vals = TI>TI_limit\n",
    "indices = np.where(TI>TI_limit)\n",
    "b0idx = np.where(b==0)   \n",
    "\n",
    "TI=TI[indices]\n",
    "TE=TE[indices]\n",
    "param=param[indices]\n",
    "b=b[indices]"
   ]
  },
  {
   "cell_type": "code",
   "execution_count": 7,
   "metadata": {},
   "outputs": [],
   "source": [
    "def selecting_right_params(im_arr, indices): \n",
    "\n",
    "    res_selected = im_arr[:,:,:,indices]\n",
    "    \n",
    "    return res_selected"
   ]
  },
  {
   "cell_type": "code",
   "execution_count": 8,
   "metadata": {},
   "outputs": [],
   "source": [
    "res_sel_1 = selecting_right_params(arr1, indices)\n",
    "# res_sel_2 = selecting_right_params(arr2, indices)\n",
    "# res_sel_3 = selecting_right_params(arr3, indices)\n",
    "# res_sel_4 = selecting_right_params(arr4, indices)\n",
    "# res_sel_5 = selecting_right_params(arr5, indices)"
   ]
  },
  {
   "cell_type": "code",
   "execution_count": 9,
   "metadata": {},
   "outputs": [],
   "source": [
    "# From Stackoverflow: https://stackoverflow.com/questions/45637778/how-to-find-intersect-indexes-and-values-in-python\n",
    "# Function takes unique elements from each array, puts them together, and concatenates\n",
    "import numpy as np\n",
    "def intersect_mtlb(a, b):\n",
    "    a1, ia = np.unique(a, return_index=True)\n",
    "    b1, ib = np.unique(b, return_index=True)\n",
    "    aux = np.concatenate((a1, b1))\n",
    "    aux.sort()\n",
    "    c = aux[:-1][aux[1:] == aux[:-1]]\n",
    "    return c, ia[np.isin(a1, c)], ib[np.isin(b1, c)]\n",
    "\n",
    "c, idx_b0, ib = intersect_mtlb(indices, b0idx )\n",
    "\n",
    "# s0init = np.mean(arr[:,:,:,idx_b0], axis = 3) \n",
    "\n",
    "# Initial Values and Objective Function\n",
    "b=b/1000\n",
    "x0 = [300, 2, 1000, 100, 1, 1, 1, 0, 0, 0]"
   ]
  },
  {
   "cell_type": "markdown",
   "metadata": {},
   "source": [
    "<h2> Selecting for Separate Effects </h2> "
   ]
  },
  {
   "cell_type": "code",
   "execution_count": 10,
   "metadata": {},
   "outputs": [],
   "source": [
    "# Extract indices\n",
    "\n",
    "# Diffusion\n",
    "low_TE_ind = np.where(TE<100)\n",
    "high_TI_ind = np.where(TI>4600) # First trial was 1500\n",
    "diff_ind_1 = np.intersect1d(high_TI_ind, low_TE_ind, assume_unique=True)\n",
    "\n",
    "# T1\n",
    "low_TE_ind = np.where(TE<100)\n",
    "b_ind = np.where(b==0)\n",
    "diff_ind_2 = np.intersect1d(b_ind, low_TE_ind, assume_unique=True)\n",
    "\n",
    "# T2\n",
    "high_TI_ind = np.where(TI>3200)\n",
    "b_ind = np.where(b==0)\n",
    "diff_ind_3 = np.intersect1d(b_ind, high_TI_ind, assume_unique=True)"
   ]
  },
  {
   "cell_type": "code",
   "execution_count": 11,
   "metadata": {},
   "outputs": [],
   "source": [
    "# Combining\n",
    "diff_ind = np.concatenate((diff_ind_1, diff_ind_2, diff_ind_3))"
   ]
  },
  {
   "cell_type": "code",
   "execution_count": 12,
   "metadata": {},
   "outputs": [],
   "source": [
    "# Select Relevant Data\n",
    "b = b[diff_ind]\n",
    "TI = TI[diff_ind]\n",
    "TE = TE[diff_ind]\n",
    "param = param[diff_ind,:]"
   ]
  },
  {
   "cell_type": "code",
   "execution_count": 13,
   "metadata": {},
   "outputs": [],
   "source": [
    "res_sel_1 = res_sel_1[:,:,:,:,diff_ind]\n",
    "# res_sel_2 = res_sel_2[:,:,:,:,diff_ind]\n",
    "# res_sel_3 = res_sel_3[:,:,:,:,diff_ind]\n",
    "# res_sel_4 = res_sel_4[:,:,:,:,diff_ind]\n",
    "# res_sel_5 = res_sel_5[:,:,:,:,diff_ind]"
   ]
  },
  {
   "cell_type": "code",
   "execution_count": 14,
   "metadata": {},
   "outputs": [
    {
     "data": {
      "text/plain": [
       "[<matplotlib.lines.Line2D at 0x253e0e3e1d0>]"
      ]
     },
     "execution_count": 14,
     "metadata": {},
     "output_type": "execute_result"
    },
    {
     "data": {
      "image/png": "[encoded data removed]",
      "text/plain": [
       "<Figure size 432x288 with 1 Axes>"
      ]
     },
     "metadata": {
      "needs_background": "light"
     },
     "output_type": "display_data"
    }
   ],
   "source": [
    "plt.plot(res_sel_1[40,40,33,0,:])"
   ]
  },
  {
   "cell_type": "code",
   "execution_count": 15,
   "metadata": {},
   "outputs": [
    {
     "data": {
      "text/plain": [
       "array([  22,   26,   49,   53,   76,   80,  103,  107,  130,  134,  157,\n",
       "        161,  184,  188,  211,  215,  238,  242,  265,  269,  292,  296,\n",
       "        319,  323,  346,  350,  373,  377,  400,  404,  427,  431,   50,\n",
       "         51,   52,   53,  111,  112,  113,  114,  208,  209,  210,  211,\n",
       "        258,  259,  260,  261,  277,  278,  279,  280,  362,  363,  364,\n",
       "        365,  378,  379,  380,   52,   53,  114,  210,  211,  261,  280,\n",
       "        365,  380,  484,  485,  546,  642,  643,  693,  712,  797,  812,\n",
       "        916,  917,  978, 1074, 1075, 1125, 1144, 1229, 1244], dtype=int64)"
      ]
     },
     "execution_count": 15,
     "metadata": {},
     "output_type": "execute_result"
    }
   ],
   "source": [
    "diff_ind"
   ]
  },
  {
   "cell_type": "code",
   "execution_count": 16,
   "metadata": {},
   "outputs": [],
   "source": [
    "np.savetxt('combined_diff_ind.txt', diff_ind)"
   ]
  },
  {
   "cell_type": "markdown",
   "metadata": {},
   "source": [
    "<h2> Creating Training and Test Sets </h2> "
   ]
  },
  {
   "cell_type": "code",
   "execution_count": null,
   "metadata": {},
   "outputs": [],
   "source": [
    "# Importing Features\n",
    "\n",
    "CSF_S11 = nib.load(datafolder+\"CSF_S11.nii\")\n",
    "WM_S11 = nib.load(datafolder+\"WM_S11.nii\")\n",
    "GM_S11 = nib.load(datafolder+\"GM_S11.nii\")\n",
    "\n",
    "CSF_S12 = nib.load(datafolder+\"CSF_S12.nii\")\n",
    "WM_S12 = nib.load(datafolder+\"WM_S12.nii\")\n",
    "GM_S12 = nib.load(datafolder+\"GM_S12.nii\")\n",
    "\n",
    "CSF_S13 = nib.load(datafolder+\"CSF_S13.nii\")\n",
    "WM_S13 = nib.load(datafolder+\"WM_S13.nii\")\n",
    "GM_S13 = nib.load(datafolder+\"GM_S13.nii\")\n"
   ]
  },
  {
   "cell_type": "code",
   "execution_count": null,
   "metadata": {},
   "outputs": [],
   "source": [
    "Label_CSF = [ CSF_S11.dataobj[:,:,:], CSF_S12.dataobj[:,:,:], CSF_S13.dataobj[:,:,:]]\n",
    "Label_WM = [ WM_S11.dataobj[:,:,:], WM_S12.dataobj[:,:,:], WM_S13.dataobj[:,:,:]]\n",
    "Label_GM = [ GM_S11.dataobj[:,:,:], GM_S12.dataobj[:,:,:], GM_S13.dataobj[:,:,:]]"
   ]
  },
  {
   "cell_type": "code",
   "execution_count": null,
   "metadata": {},
   "outputs": [],
   "source": [
    "# Definitions before Looping\n",
    "conf_mat_collection = np.zeros((3,3,5))\n",
    "conf_mat_collection_rfe = np.zeros((3,3,5))"
   ]
  },
  {
   "cell_type": "code",
   "execution_count": null,
   "metadata": {},
   "outputs": [],
   "source": [
    "# Initialising all definitions\n",
    "def create_labelled_data(Label_CSF, Label_WM, Label_GM, param, res_selected):\n",
    "    \n",
    "    # Data Size\n",
    "    CSF_num = np.asarray(np.nonzero(Label_CSF)).shape[1]\n",
    "    WM_num = np.asarray(np.nonzero(Label_WM)).shape[1]\n",
    "    GM_num = np.asarray(np.nonzero(Label_GM)).shape[1]\n",
    "    rows = CSF_num + WM_num + GM_num\n",
    "    \n",
    "    # Setting Key and Creating Labelled Data\n",
    "\n",
    "    ## Key ---------------------------------------\n",
    "    # 1 - WM                                     \\\n",
    "    # 2 - GM                                     \\\n",
    "    # 3 - CSF                                    \\\n",
    "    # --------------------------------------------\n",
    "\n",
    "    # Creating Labelled Data\n",
    "    labelled_data_org_pos = np.zeros([rows,4])\n",
    "\n",
    "     # WM values\n",
    "    coords_WM = np.transpose(np.asarray((np.nonzero(Label_WM))))\n",
    "    label_WM = np.c_[coords_WM, np.transpose(np.ones([1,WM_num]))]\n",
    "    labelled_data_org_pos[0:WM_num,:] = label_WM\n",
    "\n",
    "    # GM values\n",
    "    coords_GM = np.transpose(np.asarray((np.nonzero(Label_GM))))\n",
    "    label_GM = np.c_[coords_GM, np.transpose(2*np.ones([1,GM_num]))]\n",
    "    labelled_data_org_pos[WM_num:(WM_num+GM_num),:] = label_GM\n",
    "\n",
    "    # CSF values\n",
    "    coords_CSF = np.transpose(np.asarray((np.nonzero(Label_CSF))))\n",
    "    label_CSF = np.concatenate((coords_CSF, np.transpose(3*np.ones([1,CSF_num]))),axis = 1 )\n",
    "    labelled_data_org_pos[(WM_num+GM_num):(GM_num+CSF_num+WM_num),:] = label_CSF\n",
    "    \n",
    "    labelled_data_org_pos = labelled_data_org_pos.astype(int)\n",
    "\n",
    "    total_num_labels = labelled_data_org_pos.shape[0]\n",
    "\n",
    "    # Full Labelled Data\n",
    "    col = param.shape[0]+1 # 1296 for different parameter values, 1 for labels\n",
    "    param_num = param.shape[0]\n",
    "    full_label_data = np.zeros([total_num_labels,col]) # 1296 for different parameter values, 1 for labels\n",
    "    full_label_data[:,-1] = labelled_data_org_pos[:,-1]\n",
    "    unlabelled_data = res_selected.copy()\n",
    "    for i in range (0,total_num_labels):\n",
    "        full_label_data[i,:-1] = res_selected[labelled_data_org_pos[i,0], labelled_data_org_pos[i,1], labelled_data_org_pos[i,2],:]\n",
    "\n",
    "    return full_label_data, unlabelled_data\n"
   ]
  },
  {
   "cell_type": "code",
   "execution_count": null,
   "metadata": {},
   "outputs": [],
   "source": [
    "def pred_results_train(clf, X_test, full_label_data, res_sel, mask, scan_num): \n",
    "    \n",
    "    # Predict Labels\n",
    "    y_predicted = clf.predict(X_test)\n",
    "    y_predicted = np.reshape(y_predicted, (res_sel.shape[:-1]))    \n",
    "    result = y_predicted * mask\n",
    "    \n",
    "    # Confusion Matrix\n",
    "    y_predicted_train = clf.predict(full_label_data[:,:-1])\n",
    "    conf_mat = confusion_matrix(full_label_data[:,-1], y_predicted_train)\n",
    "    \n",
    "    # Getting accuracy\n",
    "    labels_predicted = clf.predict(full_label_data)\n",
    "    acc = clf.score(full_label_data[:,:-1],full_label_data[:,-1]) \n",
    "    print('Model Accuracy Score Scan' ,scan_num , ' : ', acc )\n",
    "    \n",
    "    # Probabilistic Results\n",
    "    predicted_probs = clf.predict_proba(X_test)\n",
    "    predicted_probs = np.reshape(predicted_probs, np.append(res_sel.shape[:-1], 3))\n",
    "\n",
    "    # Creating pixel values as a weighted sum of colors\n",
    "    predicted_probs_color = predicted_probs * 255 \n",
    "    \n",
    "    # Displaying Result\n",
    "\n",
    "    # 1 WM Red\n",
    "    # 2 GM Green\n",
    "    # 3 CSF Blue\n",
    "\n",
    "    prob_result = predicted_probs_color;\n",
    "    prob_result[:,:,:,0] = prob_result[:,:,:,0]*mask\n",
    "    prob_result[:,:,:,1] = prob_result[:,:,:,1]*mask\n",
    "    prob_result[:,:,:,2] = prob_result[:,:,:,2]*mask\n",
    "\n",
    "    return result, prob_result, conf_mat\n",
    "    "
   ]
  },
  {
   "cell_type": "code",
   "execution_count": null,
   "metadata": {},
   "outputs": [],
   "source": [
    "def pred_results(clf, X_test, y_test, X_test_im, res_sel, mask, scan_num): \n",
    "    # Predict Labels\n",
    "    y_predicted = clf.predict(X_test)\n",
    "    acc = clf.score(X_test, y_test) \n",
    "    print('Model Accuracy Score Scan' ,scan_num , ' : ', acc )\n",
    "    \n",
    "    # Confusion Matrix\n",
    "    conf_mat = confusion_matrix(y_test, y_predicted)\n",
    "    \n",
    "    # Predicting Image\n",
    "    y_predicted_im = clf.predict(X_test_im)    \n",
    "    y_predicted_im = np.reshape(y_predicted_im, (res_sel.shape[:-1]))    \n",
    "    result = y_predicted_im * mask\n",
    "          \n",
    "    # Probabilistic Results\n",
    "    predicted_probs = clf.predict_proba(X_test_im)\n",
    "    predicted_probs = np.reshape(predicted_probs, np.append(res_sel.shape[:-1], 3))\n",
    "\n",
    "    # Creating pixel values as a weighted sum of colors\n",
    "    predicted_probs_color = predicted_probs * 255 \n",
    "    \n",
    "    # Displaying Result\n",
    "\n",
    "    # 1 WM Red\n",
    "    # 2 GM Green\n",
    "    # 3 CSF Blue\n",
    "\n",
    "    prob_result = predicted_probs_color;\n",
    "    prob_result[:,:,:,0] = prob_result[:,:,:,0]*mask\n",
    "    prob_result[:,:,:,1] = prob_result[:,:,:,1]*mask\n",
    "    prob_result[:,:,:,2] = prob_result[:,:,:,2]*mask\n",
    "    \n",
    "    return result, prob_result, conf_mat"
   ]
  },
  {
   "cell_type": "code",
   "execution_count": null,
   "metadata": {},
   "outputs": [],
   "source": [
    "res_sel_1= np.squeeze(res_sel_1)\n",
    "res_sel_2= np.squeeze(res_sel_2)\n",
    "res_sel_3= np.squeeze(res_sel_3)\n",
    "res_sel_4= np.squeeze(res_sel_4)\n",
    "res_sel_5= np.squeeze(res_sel_5)"
   ]
  },
  {
   "cell_type": "code",
   "execution_count": null,
   "metadata": {},
   "outputs": [],
   "source": [
    "full_label_data_S11, unlabelled_data_S11 = create_labelled_data(Label_CSF[0], Label_WM[0], Label_GM[0], param, res_sel_1)\n",
    "full_label_data_S12, unlabelled_data_S12 = create_labelled_data(Label_CSF[1], Label_WM[1], Label_GM[1], param, res_sel_2)\n",
    "full_label_data_S13, unlabelled_data_S13 = create_labelled_data(Label_CSF[2], Label_WM[2], Label_GM[2], param, res_sel_3)\n",
    "full_label_data = np.concatenate((full_label_data_S11, full_label_data_S12, full_label_data_S13), 0)"
   ]
  },
  {
   "cell_type": "code",
   "execution_count": null,
   "metadata": {},
   "outputs": [],
   "source": [
    "# Creating Train and 'Test' Sets\n",
    "\n",
    "X_train = full_label_data[:,:-1]\n",
    "y_train = full_label_data[:,-1]\n",
    "\n",
    "param_num = param.shape[0]\n",
    "res_sel_1_reshape_dim = res_sel_1.shape[0]*res_sel_1.shape[1]*res_sel_1.shape[2]\n",
    "res_sel_2_reshape_dim = res_sel_2.shape[0]*res_sel_2.shape[1]*res_sel_2.shape[2]\n",
    "res_sel_3_reshape_dim = res_sel_3.shape[0]*res_sel_3.shape[1]*res_sel_3.shape[2]\n",
    "\n",
    "X_test_S11 = np.reshape(unlabelled_data_S11, (res_sel_1_reshape_dim ,param_num)) \n",
    "X_test_S12 = np.reshape(unlabelled_data_S12, (res_sel_2_reshape_dim ,param_num)) \n",
    "X_test_S13 = np.reshape(unlabelled_data_S13, (res_sel_3_reshape_dim ,param_num))"
   ]
  },
  {
   "cell_type": "markdown",
   "metadata": {},
   "source": [
    "<h2> Training Model </h2>  "
   ]
  },
  {
   "cell_type": "code",
   "execution_count": null,
   "metadata": {},
   "outputs": [],
   "source": [
    "# Performing Random Forest Classification\n",
    "\n",
    "clf=RandomForestClassifier(max_depth=5, n_estimators=50, random_state=0, max_features=None,  n_jobs= -1)\n",
    "clf.fit(X_train,y_train)\n",
    "\n",
    "# Grid Search\n",
    "# Specify parameters and parameter distributions\n",
    "\n",
    "param_dist = {\"max_depth\": [3, 5, 10, 20, 50],\n",
    "              \"max_features\" : [None],\n",
    "              \"n_estimators\": [10,20,50,100]\n",
    "              }\n",
    "\n",
    "# GridSearchCV Instance\n",
    "grid = GridSearchCV(estimator=clf, param_grid=param_dist,cv=10,iid=False, n_jobs= -1)\n",
    "# Perform Grid Search  \n",
    "grid.fit(X_train, y_train)\n",
    "\n",
    "# summarize the results of the grid search\n",
    "print('Best classification score achieved using grid search:', grid.best_score_)\n",
    "print('The parameters resulting in the best score are: depth {},max_f {} and n_estimators {} '\\\n",
    "      .format(grid.best_estimator_.max_depth,grid.best_estimator_.max_features,\\\n",
    "              grid.best_estimator_.n_estimators))\n",
    "\n",
    "# Create RF model using optimised parameters\n",
    "clf=RandomForestClassifier(max_depth=grid.best_estimator_.max_depth,max_features=\\\n",
    "                            grid.best_estimator_.max_features,\\\n",
    "                            n_estimators=grid.best_estimator_.n_estimators,\n",
    "                            random_state=42)\n",
    "clf.fit(X_train,y_train)\n"
   ]
  },
  {
   "cell_type": "code",
   "execution_count": null,
   "metadata": {},
   "outputs": [],
   "source": [
    "# Feature Importances\n",
    "plt.figure(figsize = [16,4])\n",
    "n_features = X_train.shape[1]\n",
    "plt.bar(np.arange(n_features),clf.feature_importances_)\n",
    "plt.title('Feature importances', fontsize = 18)\n",
    "plt.xlabel('Features', fontsize = 16)\n",
    "plt.ylabel('importances', fontsize = 16)\n",
    "\n",
    "feature_imp = np.zeros((2, param.shape[0]))\n",
    "feature_imp[0,:] = np.arange(param.shape[0])\n",
    "feature_imp[1,:] = cl.feature_importances_"
   ]
  },
  {
   "cell_type": "markdown",
   "metadata": {},
   "source": [
    "<h2> Displaying and Predicting Results </h2>"
   ]
  },
  {
   "cell_type": "code",
   "execution_count": null,
   "metadata": {},
   "outputs": [],
   "source": [
    "# Initialising matrices to store results\n",
    "\n",
    "ims1 = np.zeros((res_sel_1.shape[0],res_sel_1.shape[1], res_sel_1.shape[2], 4))\n",
    "ims2 = np.zeros((res_sel_2.shape[0],res_sel_2.shape[1], res_sel_2.shape[2], 4))\n",
    "ims3 = np.zeros((res_sel_3.shape[0],res_sel_3.shape[1], res_sel_3.shape[2], 4))\n",
    "ims4 = np.zeros((res_sel_4.shape[0],res_sel_4.shape[1], res_sel_4.shape[2], 4))\n",
    "ims5 = np.zeros((res_sel_5.shape[0],res_sel_5.shape[1], res_sel_5.shape[2], 4))"
   ]
  },
  {
   "cell_type": "code",
   "execution_count": null,
   "metadata": {},
   "outputs": [],
   "source": [
    "ims1[:,:,:,0] , ims1[:,:,:,1:4], conf_mat_1 = pred_results_train(clf, X_test_S11, full_label_data_S11, res_sel_1, mask1 , 11)"
   ]
  },
  {
   "cell_type": "code",
   "execution_count": null,
   "metadata": {},
   "outputs": [],
   "source": [
    "ims2[:,:,:,0] , ims2[:,:,:,1:4], conf_mat_2 = pred_results_train(clf, X_test_S12, full_label_data_S12, res_sel_2, mask2 , 12)"
   ]
  },
  {
   "cell_type": "code",
   "execution_count": null,
   "metadata": {},
   "outputs": [],
   "source": [
    "ims3[:,:,:,0] , ims3[:,:,:,1:4], conf_mat_3 = pred_results_train(clf, X_test_S13, full_label_data_S13, res_sel_3, mask3 , 13)"
   ]
  },
  {
   "cell_type": "markdown",
   "metadata": {},
   "source": [
    "<h2> Test Sets </h2>"
   ]
  },
  {
   "cell_type": "code",
   "execution_count": null,
   "metadata": {},
   "outputs": [],
   "source": [
    "# Creating Test Sets\n",
    "\n",
    "# Scan 14\n",
    "# Importing Features\n",
    "CSF_S14 = nib.load(datafolder+\"CSF_S14.nii\")\n",
    "WM_S14 = nib.load(datafolder+\"WM_S14.nii\")\n",
    "GM_S14 = nib.load(datafolder+\"GM_S14.nii\")\n",
    "\n",
    "Label_CSF_S14 = CSF_S14.dataobj[:,:,:]\n",
    "Label_WM_S14 = WM_S14.dataobj[:,:,:]\n",
    "Label_GM_S14 = GM_S14.dataobj[:,:,:]\n",
    "\n",
    "full_label_data_S14, unlabelled_data_S14 = create_labelled_data(Label_CSF_S14, Label_WM_S14, Label_GM_S14, param, res_sel_4)\n",
    "\n",
    "X_test_S14 = full_label_data_S14[:,:-1]\n",
    "y_test_S14 = full_label_data_S14[:,-1]\n",
    "\n",
    "res_sel_4_reshape_dim = res_sel_4.shape[0]*res_sel_4.shape[1]*res_sel_4.shape[2]\n",
    "\n",
    "X_test_S14_im = np.reshape(unlabelled_data_S14, (res_sel_4_reshape_dim ,param_num)) "
   ]
  },
  {
   "cell_type": "code",
   "execution_count": null,
   "metadata": {},
   "outputs": [],
   "source": [
    "# Scan 15\n",
    "# Importing Features\n",
    "CSF_S15 = nib.load(datafolder+\"CSF_S15.nii\")\n",
    "WM_S15 = nib.load(datafolder+\"WM_S15.nii\")\n",
    "GM_S15 = nib.load(datafolder+\"GM_S15.nii\")\n",
    "\n",
    "Label_CSF_S15 = CSF_S15.dataobj[:,:,:]\n",
    "Label_WM_S15 = WM_S15.dataobj[:,:,:]\n",
    "Label_GM_S15 = GM_S15.dataobj[:,:,:]\n",
    "\n",
    "full_label_data_S15, unlabelled_data_S15 = create_labelled_data(Label_CSF_S15, Label_WM_S15, Label_GM_S15, param, res_sel_5)\n",
    "\n",
    "X_test_S15 = full_label_data_S15[:,:-1]\n",
    "y_test_S15 = full_label_data_S15[:,-1]\n",
    "\n",
    "res_sel_5_reshape_dim = res_sel_5.shape[0]*res_sel_5.shape[1]*res_sel_5.shape[2]\n",
    "\n",
    "X_test_S15_im = np.reshape(unlabelled_data_S15, (res_sel_5_reshape_dim ,param_num)) "
   ]
  },
  {
   "cell_type": "code",
   "execution_count": null,
   "metadata": {},
   "outputs": [],
   "source": [
    "ims4[:,:,:,0] , ims4[:,:,:,1:4], conf_mat_4 =  pred_results(clf, X_test_S14, y_test_S14, X_test_S14_im, res_sel_4, mask4, 14)"
   ]
  },
  {
   "cell_type": "code",
   "execution_count": null,
   "metadata": {},
   "outputs": [],
   "source": [
    "ims4[:,:,:,0] , ims4[:,:,:,1:4], conf_mat_5 = pred_results(clf, X_test_S15, y_test_S15, X_test_S15_im, res_sel_5, mask5, 15)"
   ]
  },
  {
   "cell_type": "code",
   "execution_count": null,
   "metadata": {},
   "outputs": [],
   "source": [
    "# Saving conf_mat into whole array\n",
    "conf_mat_collection[:,:,0] = conf_mat_1\n",
    "conf_mat_collection[:,:,1] = conf_mat_2\n",
    "conf_mat_collection[:,:,2] = conf_mat_3\n",
    "conf_mat_collection[:,:,3] = conf_mat_4\n",
    "conf_mat_collection[:,:,4] = conf_mat_5"
   ]
  },
  {
   "cell_type": "code",
   "execution_count": null,
   "metadata": {},
   "outputs": [],
   "source": [
    "# Saving files\n",
    "np.save('conf_mat_combined.npy', conf_mat_collection)\n",
    "np.savetxt('combined_feature_imp.txt', feature_imp)\n",
    "\n",
    "nifti1 = nib.Nifti1Image(ims1, affine = None)\n",
    "nib.save(nifti1, 'combined_rf_S1.nii')\n",
    "nifti2 = nib.Nifti1Image(ims2, affine = None)\n",
    "nib.save(nifti2, 'combined_rf_S2.nii')\n",
    "nifti3 = nib.Nifti1Image(ims3, affine = None)\n",
    "nib.save(nifti3, 'combined_rf_S3.nii')\n",
    "nifti4 = nib.Nifti1Image(ims4, affine = None)\n",
    "nib.save(nifti4, 'combined_rf_S4.nii')\n",
    "nifti5 = nib.Nifti1Image(ims5, affine = None)\n",
    "nib.save(nifti5, 'combined_rf_S5.nii')"
   ]
  }
 ],
 "metadata": {
  "kernelspec": {
   "display_name": "Python 3",
   "language": "python",
   "name": "python3"
  },
  "language_info": {
   "codemirror_mode": {
    "name": "ipython",
    "version": 3
   },
   "file_extension": ".py",
   "mimetype": "text/x-python",
   "name": "python",
   "nbconvert_exporter": "python",
   "pygments_lexer": "ipython3",
   "version": "3.7.0"
  }
 },
 "nbformat": 4,
 "nbformat_minor": 2
}
