{
 "cells": [
  {
   "cell_type": "code",
   "execution_count": 1,
   "metadata": {},
   "outputs": [],
   "source": [
    "# Load Libraries\n",
    "\n",
    "import os\n",
    "import numpy as np\n",
    "import nibabel as nib\n",
    "import matplotlib.pyplot as plt\n",
    "from scipy.optimize import least_squares\n",
    "from numpy import linalg as la\n",
    "from random import sample\n",
    "\n",
    "from sklearn.ensemble import RandomForestClassifier\n",
    "from sklearn.datasets import make_classification\n",
    "from sklearn.metrics import confusion_matrix\n",
    "from sklearn.model_selection import GridSearchCV\n",
    "from sklearn.feature_selection import RFECV\n",
    "\n",
    "import pandas as pd\n",
    "\n",
    "# Setting Constants\n",
    "\n",
    "TI_limit = 25; \n",
    "TR = 7500; # (7.5 sesconds) T1 affects next slive"
   ]
  },
  {
   "cell_type": "code",
   "execution_count": 2,
   "metadata": {},
   "outputs": [],
   "source": [
    "def output_image(file_name, mask_name):\n",
    "    # Loading in Image\n",
    "\n",
    "    img_nifti = nib.load(file_name)\n",
    "\n",
    "    img =img_nifti.dataobj[:,:,:,:]\n",
    "\n",
    "    # Loading in Mask \n",
    "\n",
    "    mask_nifti = nib.load(mask_name)\n",
    "\n",
    "    mask = mask_nifti.dataobj[:,:,:]\n",
    "\n",
    "    # Final Image \n",
    "\n",
    "    arr = img.copy()\n",
    "    for i in range (0,1344):\n",
    "        arr[:,:,:,i] = mask*img[:,:,:,i]; \n",
    "        \n",
    "    return arr, mask"
   ]
  },
  {
   "cell_type": "code",
   "execution_count": 3,
   "metadata": {},
   "outputs": [
    {
     "name": "stderr",
     "output_type": "stream",
     "text": [
      "ERROR:root:Internal Python error in the inspect module.\n",
      "Below is the traceback from this internal error.\n",
      "\n"
     ]
    },
    {
     "name": "stdout",
     "output_type": "stream",
     "text": [
      "Traceback (most recent call last):\n",
      "  File \"d:\\python(2)\\lib\\site-packages\\IPython\\core\\interactiveshell.py\", line 3296, in run_code\n",
      "    exec(code_obj, self.user_global_ns, self.user_ns)\n",
      "  File \"<ipython-input-3-bc24072c507e>\", line 6, in <module>\n",
      "    arr3, mask3 = output_image(\"cdmri13_r.nii\", \"cdmri13_mask.nii\")\n",
      "  File \"<ipython-input-2-7b30beb1cdf1>\", line 4, in output_image\n",
      "    img_nifti = nib.load(file_name)\n",
      "  File \"d:\\python(2)\\lib\\site-packages\\nibabel\\loadsave.py\", line 47, in load\n",
      "    is_valid, sniff = image_klass.path_maybe_image(filename, sniff)\n",
      "  File \"d:\\python(2)\\lib\\site-packages\\nibabel\\filebasedimages.py\", line 514, in path_maybe_image\n",
      "    return klass.header_class.may_contain_header(sniff[0]), sniff\n",
      "KeyboardInterrupt\n",
      "\n",
      "During handling of the above exception, another exception occurred:\n",
      "\n",
      "Traceback (most recent call last):\n",
      "  File \"d:\\python(2)\\lib\\site-packages\\IPython\\core\\interactiveshell.py\", line 2033, in showtraceback\n",
      "    stb = value._render_traceback_()\n",
      "AttributeError: 'KeyboardInterrupt' object has no attribute '_render_traceback_'\n",
      "\n",
      "During handling of the above exception, another exception occurred:\n",
      "\n",
      "Traceback (most recent call last):\n",
      "  File \"d:\\python(2)\\lib\\site-packages\\IPython\\core\\ultratb.py\", line 1095, in get_records\n",
      "    return _fixed_getinnerframes(etb, number_of_lines_of_context, tb_offset)\n",
      "  File \"d:\\python(2)\\lib\\site-packages\\IPython\\core\\ultratb.py\", line 313, in wrapped\n",
      "    return f(*args, **kwargs)\n",
      "  File \"d:\\python(2)\\lib\\site-packages\\IPython\\core\\ultratb.py\", line 347, in _fixed_getinnerframes\n",
      "    records = fix_frame_records_filenames(inspect.getinnerframes(etb, context))\n",
      "  File \"d:\\python(2)\\lib\\inspect.py\", line 1495, in getinnerframes\n",
      "    frameinfo = (tb.tb_frame,) + getframeinfo(tb, context)\n",
      "  File \"d:\\python(2)\\lib\\inspect.py\", line 1453, in getframeinfo\n",
      "    filename = getsourcefile(frame) or getfile(frame)\n",
      "  File \"d:\\python(2)\\lib\\inspect.py\", line 693, in getsourcefile\n",
      "    if os.path.exists(filename):\n",
      "  File \"d:\\python(2)\\lib\\genericpath.py\", line 19, in exists\n",
      "    os.stat(path)\n",
      "KeyboardInterrupt\n"
     ]
    },
    {
     "ename": "KeyboardInterrupt",
     "evalue": "",
     "output_type": "error",
     "traceback": [
      "\u001b[1;31m---------------------------------------------------------------------------\u001b[0m"
     ]
    }
   ],
   "source": [
    "# Training Images\n",
    "arr1, mask1 = output_image(datafolder+ \"cdmri11_r.nii\", datafolder+ \"cdmri11_mask.nii\")\n",
    "arr2, mask2 = output_image(datafolder+ \"cdmri12_r.nii\", datafolder+\"cdmri12_mask.nii\")\n",
    "\n",
    "# Validation Image\n",
    "arr3, mask3 = output_image(datafolder+\"cdmri13_r.nii\", datafolder+\"cdmri13_mask.nii\")\n",
    "\n",
    "# Test Images\n",
    "arr4, mask4 = output_image(datafolder+\"cdmri14_r.nii\", datafolder+\"cdmri14_mask.nii\")\n",
    "arr5, mask5 = output_image(datafolder+\"cdmri15_r.nii\", datafolder+\"cdmri15_mask.nii\")"
   ]
  },
  {
   "cell_type": "code",
   "execution_count": null,
   "metadata": {},
   "outputs": [],
   "source": [
    "# Importing Parameters\n",
    "\n",
    "p = np.loadtxt('parameters_new.txt')\n",
    "p.shape\n",
    "\n",
    "param = np.zeros([1344,6])\n",
    "param = p.copy()\n",
    "# Switching first two columns as:\n",
    "# [x y z] --> [y -x z] (scanner to measurement coordinate system)\n",
    "param[:, 0], param[:, 1] = p[:, 1], p[:, 0].copy()\n",
    "param[:,1] = -param[:,1]\n",
    "\n",
    "b = p[:,3]\n",
    "TI = p[:,4]\n",
    "TE = p[:,5]\n",
    "\n",
    "# Filter based on TI fulfilling condition\n",
    "vals = TI>TI_limit\n",
    "indices = np.where(TI>TI_limit)\n",
    "b0idx = np.where(b==0)   \n",
    "\n",
    "TI=TI[indices]\n",
    "TE=TE[indices]\n",
    "param=param[indices]\n",
    "b=b[indices]"
   ]
  },
  {
   "cell_type": "code",
   "execution_count": null,
   "metadata": {},
   "outputs": [],
   "source": [
    "def selecting_right_params(im_arr, indices): \n",
    "\n",
    "    res_selected = im_arr[:,:,:,indices]\n",
    "    \n",
    "    return res_selected"
   ]
  },
  {
   "cell_type": "code",
   "execution_count": null,
   "metadata": {},
   "outputs": [],
   "source": [
    "res_sel_1 = selecting_right_params(arr1, indices)\n",
    "res_sel_2 = selecting_right_params(arr2, indices)\n",
    "res_sel_3 = selecting_right_params(arr3, indices)\n",
    "res_sel_4 = selecting_right_params(arr4, indices)\n",
    "res_sel_5 = selecting_right_params(arr5, indices)"
   ]
  },
  {
   "cell_type": "code",
   "execution_count": null,
   "metadata": {},
   "outputs": [],
   "source": [
    "# From Stackoverflow: https://stackoverflow.com/questions/45637778/how-to-find-intersect-indexes-and-values-in-python\n",
    "# Function takes unique elements from each array, puts them together, and concatenates\n",
    "import numpy as np\n",
    "def intersect_mtlb(a, b):\n",
    "    a1, ia = np.unique(a, return_index=True)\n",
    "    b1, ib = np.unique(b, return_index=True)\n",
    "    aux = np.concatenate((a1, b1))\n",
    "    aux.sort()\n",
    "    c = aux[:-1][aux[1:] == aux[:-1]]\n",
    "    return c, ia[np.isin(a1, c)], ib[np.isin(b1, c)]\n",
    "\n",
    "c, idx_b0, ib = intersect_mtlb(indices, b0idx )\n",
    "\n",
    "# s0init = np.mean(arr[:,:,:,idx_b0], axis = 3) \n",
    "\n",
    "# Initial Values and Objective Function\n",
    "b=b/1000\n",
    "x0 = [300, 2, 1000, 100, 1, 1, 1, 0, 0, 0]"
   ]
  },
  {
   "cell_type": "markdown",
   "metadata": {},
   "source": [
    "<h2> Creating Training and Test Sets </h2> "
   ]
  },
  {
   "cell_type": "code",
   "execution_count": null,
   "metadata": {},
   "outputs": [],
   "source": [
    "# Importing Features\n",
    "\n",
    "CSF_S11 = nib.load(datafolder+\"CSF_S11.nii\")\n",
    "WM_S11 = nib.load(datafolder+\"WM_S11.nii\")\n",
    "GM_S11 = nib.load(datafolder+\"GM_S11.nii\")\n",
    "\n",
    "CSF_S12 = nib.load(datafolder+\"CSF_S12.nii\")\n",
    "WM_S12 = nib.load(datafolder+\"WM_S12.nii\")\n",
    "GM_S12 = nib.load(datafolder+\"GM_S12.nii\")\n",
    "\n",
    "CSF_S13 = nib.load(datafolder+\"CSF_S13.nii\")\n",
    "WM_S13 = nib.load(datafolder+\"WM_S13.nii\")\n",
    "GM_S13 = nib.load(datafolder+\"GM_S13.nii\")\n"
   ]
  },
  {
   "cell_type": "code",
   "execution_count": null,
   "metadata": {},
   "outputs": [],
   "source": [
    "Label_CSF = [ CSF_S11.dataobj[:,:,:], CSF_S12.dataobj[:,:,:], CSF_S13.dataobj[:,:,:]]\n",
    "Label_WM = [ WM_S11.dataobj[:,:,:], WM_S12.dataobj[:,:,:], WM_S13.dataobj[:,:,:]]\n",
    "Label_GM = [ GM_S11.dataobj[:,:,:], GM_S12.dataobj[:,:,:], GM_S13.dataobj[:,:,:]]"
   ]
  },
  {
   "cell_type": "code",
   "execution_count": null,
   "metadata": {},
   "outputs": [],
   "source": [
    "# Definitions before Looping\n",
    "conf_mat_collection = np.zeros((3,3,5))"
   ]
  },
  {
   "cell_type": "code",
   "execution_count": null,
   "metadata": {},
   "outputs": [],
   "source": [
    "# Initialising all definitions\n",
    "def create_labelled_data(Label_CSF, Label_WM, Label_GM, param, res_selected):\n",
    "    \n",
    "    # Data Size\n",
    "    CSF_num = np.asarray(np.nonzero(Label_CSF)).shape[1]\n",
    "    WM_num = np.asarray(np.nonzero(Label_WM)).shape[1]\n",
    "    GM_num = np.asarray(np.nonzero(Label_GM)).shape[1]\n",
    "    rows = CSF_num + WM_num + GM_num\n",
    "    \n",
    "    # Setting Key and Creating Labelled Data\n",
    "\n",
    "    ## Key ---------------------------------------\n",
    "    # 1 - WM                                     \\\n",
    "    # 2 - GM                                     \\\n",
    "    # 3 - CSF                                    \\\n",
    "    # --------------------------------------------\n",
    "\n",
    "    # Creating Labelled Data\n",
    "    labelled_data_org_pos = np.zeros([rows,4])\n",
    "\n",
    "     # WM values\n",
    "    coords_WM = np.transpose(np.asarray((np.nonzero(Label_WM))))\n",
    "    label_WM = np.c_[coords_WM, np.transpose(np.ones([1,WM_num]))]\n",
    "    labelled_data_org_pos[0:WM_num,:] = label_WM\n",
    "\n",
    "    # GM values\n",
    "    coords_GM = np.transpose(np.asarray((np.nonzero(Label_GM))))\n",
    "    label_GM = np.c_[coords_GM, np.transpose(2*np.ones([1,GM_num]))]\n",
    "    labelled_data_org_pos[WM_num:(WM_num+GM_num),:] = label_GM\n",
    "\n",
    "    # CSF values\n",
    "    coords_CSF = np.transpose(np.asarray((np.nonzero(Label_CSF))))\n",
    "    label_CSF = np.concatenate((coords_CSF, np.transpose(3*np.ones([1,CSF_num]))),axis = 1 )\n",
    "    labelled_data_org_pos[(WM_num+GM_num):(GM_num+CSF_num+WM_num),:] = label_CSF\n",
    "    \n",
    "    labelled_data_org_pos = labelled_data_org_pos.astype(int)\n",
    "\n",
    "    total_num_labels = labelled_data_org_pos.shape[0]\n",
    "\n",
    "    # Full Labelled Data\n",
    "    col = param.shape[0]+1 # 1296 for different parameter values, 1 for labels\n",
    "    param_num = param.shape[0]\n",
    "    full_label_data = np.zeros([total_num_labels,col]) # 1296 for different parameter values, 1 for labels\n",
    "    full_label_data[:,-1] = labelled_data_org_pos[:,-1]\n",
    "    unlabelled_data = res_selected.copy()\n",
    "    for i in range (0,total_num_labels):\n",
    "        full_label_data[i,:-1] = res_selected[labelled_data_org_pos[i,0], labelled_data_org_pos[i,1], labelled_data_org_pos[i,2],:]\n",
    "\n",
    "    return full_label_data, unlabelled_data\n"
   ]
  },
  {
   "cell_type": "code",
   "execution_count": null,
   "metadata": {},
   "outputs": [],
   "source": [
    "def pred_results_train(clf, X_test, full_label_data, res_sel, mask, scan_num): \n",
    "    \n",
    "    # Predict Labels\n",
    "    y_predicted = clf.predict(X_test)\n",
    "    y_predicted = np.reshape(y_predicted, (res_sel.shape[:-1]))    \n",
    "    result = y_predicted * mask\n",
    "    \n",
    "    # Confusion Matrix\n",
    "    y_predicted_train = clf.predict(full_label_data[:,:-1])\n",
    "    conf_mat = confusion_matrix(full_label_data[:,-1], y_predicted_train)\n",
    "    \n",
    "    # Getting accuracy\n",
    "    labels_predicted = clf.predict(full_label_data)\n",
    "    acc = clf.score(full_label_data[:,:-1],full_label_data[:,-1]) \n",
    "    print('Model Accuracy Score Scan' ,scan_num , ' : ', acc )\n",
    "    \n",
    "    # Probabilistic Results\n",
    "    predicted_probs = clf.predict_proba(X_test)\n",
    "    predicted_probs = np.reshape(predicted_probs, np.append(res_sel.shape[:-1], 3))\n",
    "\n",
    "    # Creating pixel values as a weighted sum of colors\n",
    "    predicted_probs_color = predicted_probs * 255 \n",
    "    \n",
    "    # Displaying Result\n",
    "\n",
    "    # 1 WM Red\n",
    "    # 2 GM Green\n",
    "    # 3 CSF Blue\n",
    "\n",
    "    prob_result = predicted_probs_color;\n",
    "    prob_result[:,:,:,0] = prob_result[:,:,:,0]*mask\n",
    "    prob_result[:,:,:,1] = prob_result[:,:,:,1]*mask\n",
    "    prob_result[:,:,:,2] = prob_result[:,:,:,2]*mask\n",
    "\n",
    "    return result, prob_result, conf_mat\n",
    "    "
   ]
  },
  {
   "cell_type": "code",
   "execution_count": null,
   "metadata": {},
   "outputs": [],
   "source": [
    "def pred_results(clf, X_test, y_test, X_test_im, res_sel, mask, scan_num): \n",
    "    # Predict Labels\n",
    "    y_predicted = clf.predict(X_test)\n",
    "    acc = clf.score(X_test, y_test) \n",
    "    print('Model Accuracy Score Scan' ,scan_num , ' : ', acc )\n",
    "    \n",
    "    # Confusion Matrix\n",
    "    conf_mat = confusion_matrix(y_test, y_predicted)\n",
    "    \n",
    "    # Predicting Image\n",
    "    y_predicted_im = clf.predict(X_test_im)    \n",
    "    y_predicted_im = np.reshape(y_predicted_im, (res_sel.shape[:-1]))    \n",
    "    result = y_predicted_im * mask\n",
    "          \n",
    "    # Probabilistic Results\n",
    "    predicted_probs = clf.predict_proba(X_test_im)\n",
    "    predicted_probs = np.reshape(predicted_probs, np.append(res_sel.shape[:-1], 3))\n",
    "\n",
    "    # Creating pixel values as a weighted sum of colors\n",
    "    predicted_probs_color = predicted_probs * 255 \n",
    "    \n",
    "    # Displaying Result\n",
    "\n",
    "    # 1 WM Red\n",
    "    # 2 GM Green\n",
    "    # 3 CSF Blue\n",
    "\n",
    "    prob_result = predicted_probs_color;\n",
    "    prob_result[:,:,:,0] = prob_result[:,:,:,0]*mask\n",
    "    prob_result[:,:,:,1] = prob_result[:,:,:,1]*mask\n",
    "    prob_result[:,:,:,2] = prob_result[:,:,:,2]*mask\n",
    "  \n",
    "    return result, prob_result, conf_mat"
   ]
  },
  {
   "cell_type": "code",
   "execution_count": null,
   "metadata": {},
   "outputs": [],
   "source": [
    "res_sel_1= np.squeeze(res_sel_1)\n",
    "res_sel_2= np.squeeze(res_sel_2)\n",
    "res_sel_3= np.squeeze(res_sel_3)\n",
    "res_sel_4= np.squeeze(res_sel_4)\n",
    "res_sel_5= np.squeeze(res_sel_5)"
   ]
  },
  {
   "cell_type": "code",
   "execution_count": null,
   "metadata": {},
   "outputs": [],
   "source": [
    "full_label_data_S11, unlabelled_data_S11 = create_labelled_data(Label_CSF[0], Label_WM[0], Label_GM[0], param, res_sel_1)\n",
    "full_label_data_S12, unlabelled_data_S12 = create_labelled_data(Label_CSF[1], Label_WM[1], Label_GM[1], param, res_sel_2)\n",
    "full_label_data_S13, unlabelled_data_S13 = create_labelled_data(Label_CSF[2], Label_WM[2], Label_GM[2], param, res_sel_3)\n",
    "full_label_data = np.concatenate((full_label_data_S11, full_label_data_S12, full_label_data_S13), 0)"
   ]
  },
  {
   "cell_type": "code",
   "execution_count": null,
   "metadata": {},
   "outputs": [],
   "source": [
    "# Creating Train and 'Test' Sets\n",
    "\n",
    "X_train = full_label_data[:,:-1]\n",
    "y_train = full_label_data[:,-1]\n",
    "\n",
    "param_num = param.shape[0]\n",
    "res_sel_1_reshape_dim = res_sel_1.shape[0]*res_sel_1.shape[1]*res_sel_1.shape[2]\n",
    "res_sel_2_reshape_dim = res_sel_2.shape[0]*res_sel_2.shape[1]*res_sel_2.shape[2]\n",
    "res_sel_3_reshape_dim = res_sel_3.shape[0]*res_sel_3.shape[1]*res_sel_3.shape[2]\n",
    "\n",
    "X_test_S11 = np.reshape(unlabelled_data_S11, (res_sel_1_reshape_dim ,param_num)) \n",
    "X_test_S12 = np.reshape(unlabelled_data_S12, (res_sel_2_reshape_dim ,param_num)) \n",
    "X_test_S13 = np.reshape(unlabelled_data_S13, (res_sel_3_reshape_dim ,param_num))"
   ]
  },
  {
   "cell_type": "markdown",
   "metadata": {},
   "source": [
    "<h2> Training Model </h2>  "
   ]
  },
  {
   "cell_type": "code",
   "execution_count": 4,
   "metadata": {},
   "outputs": [
    {
     "ename": "NameError",
     "evalue": "name 'X_train' is not defined",
     "output_type": "error",
     "traceback": [
      "\u001b[1;31m---------------------------------------------------------------------------\u001b[0m",
      "\u001b[1;31mNameError\u001b[0m                                 Traceback (most recent call last)",
      "\u001b[1;32m<ipython-input-4-62e1fcc35c89>\u001b[0m in \u001b[0;36m<module>\u001b[1;34m\u001b[0m\n\u001b[0;32m      3\u001b[0m \u001b[1;33m\u001b[0m\u001b[0m\n\u001b[0;32m      4\u001b[0m \u001b[0mclf\u001b[0m\u001b[1;33m=\u001b[0m\u001b[0mRandomForestClassifier\u001b[0m\u001b[1;33m(\u001b[0m\u001b[0mmax_depth\u001b[0m\u001b[1;33m=\u001b[0m\u001b[1;36m5\u001b[0m\u001b[1;33m,\u001b[0m \u001b[0mn_estimators\u001b[0m\u001b[1;33m=\u001b[0m\u001b[1;36m50\u001b[0m\u001b[1;33m,\u001b[0m \u001b[0mrandom_state\u001b[0m\u001b[1;33m=\u001b[0m\u001b[1;36m0\u001b[0m\u001b[1;33m,\u001b[0m \u001b[0mmax_features\u001b[0m \u001b[1;33m=\u001b[0m \u001b[1;36m0.066358\u001b[0m\u001b[1;33m)\u001b[0m\u001b[1;33m\u001b[0m\u001b[0m\n\u001b[1;32m----> 5\u001b[1;33m \u001b[0mclf\u001b[0m\u001b[1;33m.\u001b[0m\u001b[0mfit\u001b[0m\u001b[1;33m(\u001b[0m\u001b[0mX_train\u001b[0m\u001b[1;33m,\u001b[0m\u001b[0my_train\u001b[0m\u001b[1;33m)\u001b[0m\u001b[1;33m\u001b[0m\u001b[0m\n\u001b[0m\u001b[0;32m      6\u001b[0m \u001b[1;33m\u001b[0m\u001b[0m\n\u001b[0;32m      7\u001b[0m \u001b[1;31m# Grid Search\u001b[0m\u001b[1;33m\u001b[0m\u001b[1;33m\u001b[0m\u001b[0m\n",
      "\u001b[1;31mNameError\u001b[0m: name 'X_train' is not defined"
     ]
    }
   ],
   "source": [
    "# Performing Random Forest Classification\n",
    "\n",
    "clf=RandomForestClassifier(max_depth=5, n_estimators=50, random_state=0, max_features=None,  n_jobs= -1)\n",
    "clf.fit(X_train,y_train)\n",
    "\n",
    "# Grid Search\n",
    "# Specify parameters and parameter distributions\n",
    "\n",
    "param_dist = {\"max_depth\": [3, 5, 10, 20, 50],\n",
    "              \"max_features\" : [None],\n",
    "              \"n_estimators\": [10,20,50,100]\n",
    "              }\n",
    "\n",
    "# GridSearchCV Instance\n",
    "grid = GridSearchCV(estimator=clf, param_grid=param_dist,cv=10,iid=False, n_jobs= -1)\n",
    "# Perform Grid Search  \n",
    "grid.fit(X_train, y_train)\n",
    "\n",
    "# summarize the results of the grid search\n",
    "print('Best classification score achieved using grid search:', grid.best_score_)\n",
    "print('The parameters resulting in the best score are: depth {},max_f {} and n_estimators {} '\\\n",
    "      .format(grid.best_estimator_.max_depth,grid.best_estimator_.max_features,\\\n",
    "              grid.best_estimator_.n_estimators))\n",
    "\n",
    "# Create RF model using optimised parameters\n",
    "clf=RandomForestClassifier(max_depth=grid.best_estimator_.max_depth,max_features=\\\n",
    "                            grid.best_estimator_.max_features,\\\n",
    "                            n_estimators=grid.best_estimator_.n_estimators,\n",
    "                            random_state=42)\n",
    "clf.fit(X_train,y_train)\n"
   ]
  },
  {
   "cell_type": "code",
   "execution_count": null,
   "metadata": {},
   "outputs": [],
   "source": [
    "# Feature Importances\n",
    "plt.figure(figsize = [16,4])\n",
    "n_features = X_train.shape[1]\n",
    "plt.bar(np.arange(n_features),clf.feature_importances_)\n",
    "plt.title('Feature importances', fontsize = 18)\n",
    "plt.xlabel('Features', fontsize = 16)\n",
    "plt.ylabel('importances', fontsize = 16)"
   ]
  },
  {
   "cell_type": "code",
   "execution_count": null,
   "metadata": {},
   "outputs": [],
   "source": [
    "# Recursive Feature Elimination\n",
    "\n",
    "rfe = RFECV(clf, cv=10, n_jobs=-1)\n",
    "rfe.fit(X_train, y_train)\n",
    "\n",
    "# Print selected features\n",
    "ind_rfecv = np.where(rfe.get_support())[0]\n",
    "print('Indices: ', ind_rfecv)\n",
    "print('Number of selected features: ', ind_rfecv.size)\n"
   ]
  },
  {
   "cell_type": "code",
   "execution_count": null,
   "metadata": {},
   "outputs": [],
   "source": [
    "# Select features\n",
    "X_train = rfe.transform(X_train)\n",
    "X_test_S11 = rfe.transform(X_test_S11)\n",
    "X_test_S12 = rfe.transform(X_test_S12)\n",
    "X_test_S13 = rfe.transform(X_test_S13)\n",
    "X_test_S14 = rfe.transform(X_test_S14)\n",
    "X_test_S15 = rfe.transform(X_test_S15)"
   ]
  },
  {
   "cell_type": "markdown",
   "metadata": {},
   "source": [
    "<h2> Displaying and Predicting Results </h2>"
   ]
  },
  {
   "cell_type": "code",
   "execution_count": null,
   "metadata": {},
   "outputs": [],
   "source": [
    "# Initialising where will store results\n",
    "ims1 = np.zeros((res_sel_1.shape[0],res_sel_1.shape[1], res_sel_1.shape[2], 4))\n",
    "ims2 = np.zeros((res_sel_2.shape[0],res_sel_2.shape[1], res_sel_2.shape[2], 4))\n",
    "ims3 = np.zeros((res_sel_3.shape[0],res_sel_3.shape[1], res_sel_3.shape[2], 4))\n",
    "ims4 = np.zeros((res_sel_4.shape[0],res_sel_4.shape[1], res_sel_4.shape[2], 4))\n",
    "ims5 = np.zeros((res_sel_5.shape[0],res_sel_5.shape[1], res_sel_5.shape[2], 4))"
   ]
  },
  {
   "cell_type": "code",
   "execution_count": null,
   "metadata": {},
   "outputs": [],
   "source": [
    "ims1[:,:,:,0] , ims1[:,:,:,1:4], conf_mat_1 = pred_results_train(clf, X_test_S11, full_label_data_S11, res_sel_1, mask1 , 11)"
   ]
  },
  {
   "cell_type": "code",
   "execution_count": null,
   "metadata": {},
   "outputs": [],
   "source": [
    "ims2[:,:,:,0] , ims2[:,:,:,1:4], conf_mat_2 = pred_results_train(clf, X_test_S12, full_label_data_S12, res_sel_2, mask2 , 12)"
   ]
  },
  {
   "cell_type": "code",
   "execution_count": null,
   "metadata": {},
   "outputs": [],
   "source": [
    "ims3[:,:,:,0] , ims3[:,:,:,1:4], conf_mat_3 = pred_results_train(clf, X_test_S13, full_label_data_S13, res_sel_3, mask3 , 13)"
   ]
  },
  {
   "cell_type": "markdown",
   "metadata": {},
   "source": [
    "<h2> Test Sets </h2>"
   ]
  },
  {
   "cell_type": "code",
   "execution_count": null,
   "metadata": {},
   "outputs": [],
   "source": [
    "# Creating Test Sets\n",
    "\n",
    "# Scan 14\n",
    "# Importing Features\n",
    "CSF_S14 = nib.load(datafolder+\"CSF_S14.nii\")\n",
    "WM_S14 = nib.load(datafolder+\"WM_S14.nii\")\n",
    "GM_S14 = nib.load(datafolder+\"GM_S14.nii\")\n",
    "\n",
    "Label_CSF_S14 = CSF_S14.dataobj[:,:,:]\n",
    "Label_WM_S14 = WM_S14.dataobj[:,:,:]\n",
    "Label_GM_S14 = GM_S14.dataobj[:,:,:]\n",
    "\n",
    "full_label_data_S14, unlabelled_data_S14 = create_labelled_data(Label_CSF_S14, Label_WM_S14, Label_GM_S14, param, res_sel_4)\n",
    "\n",
    "X_test_S14 = full_label_data_S14[:,:-1]\n",
    "y_test_S14 = full_label_data_S14[:,-1]\n",
    "\n",
    "res_sel_4_reshape_dim = res_sel_4.shape[0]*res_sel_4.shape[1]*res_sel_4.shape[2]\n",
    "\n",
    "X_test_S14_im = np.reshape(unlabelled_data_S14, (res_sel_4_reshape_dim ,param_num)) "
   ]
  },
  {
   "cell_type": "code",
   "execution_count": null,
   "metadata": {},
   "outputs": [],
   "source": [
    "# Scan 15\n",
    "# Importing Features\n",
    "CSF_S15 = nib.load(datafolder+\"CSF_S15.nii\")\n",
    "WM_S15 = nib.load(datafolder+\"WM_S15.nii\")\n",
    "GM_S15 = nib.load(datafolder+\"GM_S15.nii\")\n",
    "\n",
    "Label_CSF_S15 = CSF_S15.dataobj[:,:,:]\n",
    "Label_WM_S15 = WM_S15.dataobj[:,:,:]\n",
    "Label_GM_S15 = GM_S15.dataobj[:,:,:]\n",
    "\n",
    "full_label_data_S15, unlabelled_data_S15 = create_labelled_data(Label_CSF_S15, Label_WM_S15, Label_GM_S15, param, res_sel_5)\n",
    "\n",
    "X_test_S15 = full_label_data_S15[:,:-1]\n",
    "y_test_S15 = full_label_data_S15[:,-1]\n",
    "\n",
    "res_sel_5_reshape_dim = res_sel_5.shape[0]*res_sel_5.shape[1]*res_sel_5.shape[2]\n",
    "\n",
    "X_test_S15_im = np.reshape(unlabelled_data_S15, (res_sel_5_reshape_dim ,param_num)) "
   ]
  },
  {
   "cell_type": "code",
   "execution_count": null,
   "metadata": {},
   "outputs": [],
   "source": [
    "ims4[:,:,:,0] , ims4[:,:,:,1:4], conf_mat_4 =  pred_results(clf, X_test_S14, y_test_S14, X_test_S14_im, res_sel_4, mask4, 14)"
   ]
  },
  {
   "cell_type": "code",
   "execution_count": null,
   "metadata": {},
   "outputs": [],
   "source": [
    "ims5[:,:,:,0] , ims5[:,:,:,1:4], conf_mat_5 = pred_results(clf, X_test_S15, y_test_S15, X_test_S15_im, res_sel_5, mask5, 15)"
   ]
  },
  {
   "cell_type": "code",
   "execution_count": 1,
   "metadata": {},
   "outputs": [
    {
     "ename": "NameError",
     "evalue": "name 'np' is not defined",
     "output_type": "error",
     "traceback": [
      "\u001b[1;31m---------------------------------------------------------------------------\u001b[0m",
      "\u001b[1;31mNameError\u001b[0m                                 Traceback (most recent call last)",
      "\u001b[1;32m<ipython-input-1-c29b0cde844e>\u001b[0m in \u001b[0;36m<module>\u001b[1;34m\u001b[0m\n\u001b[0;32m      1\u001b[0m \u001b[1;31m# Saving conf_mat into whole array\u001b[0m\u001b[1;33m\u001b[0m\u001b[1;33m\u001b[0m\u001b[0m\n\u001b[1;32m----> 2\u001b[1;33m \u001b[0mconf_mat_collection\u001b[0m \u001b[1;33m=\u001b[0m \u001b[0mnp\u001b[0m\u001b[1;33m.\u001b[0m\u001b[0mzeros\u001b[0m\u001b[1;33m(\u001b[0m\u001b[1;33m(\u001b[0m\u001b[1;36m3\u001b[0m\u001b[1;33m,\u001b[0m\u001b[1;36m3\u001b[0m\u001b[1;33m,\u001b[0m\u001b[1;36m5\u001b[0m\u001b[1;33m,\u001b[0m\u001b[1;36m100\u001b[0m\u001b[1;33m)\u001b[0m\u001b[1;33m)\u001b[0m\u001b[1;33m\u001b[0m\u001b[0m\n\u001b[0m\u001b[0;32m      3\u001b[0m \u001b[1;33m\u001b[0m\u001b[0m\n\u001b[0;32m      4\u001b[0m \u001b[0mconf_mat_collection\u001b[0m\u001b[1;33m[\u001b[0m\u001b[1;33m:\u001b[0m\u001b[1;33m,\u001b[0m\u001b[1;33m:\u001b[0m\u001b[1;33m,\u001b[0m\u001b[1;36m1\u001b[0m\u001b[1;33m,\u001b[0m\u001b[0mq\u001b[0m\u001b[1;33m]\u001b[0m \u001b[1;33m=\u001b[0m \u001b[0mconf_mat_1\u001b[0m\u001b[1;33m\u001b[0m\u001b[0m\n\u001b[0;32m      5\u001b[0m \u001b[0mconf_mat_collection\u001b[0m\u001b[1;33m[\u001b[0m\u001b[1;33m:\u001b[0m\u001b[1;33m,\u001b[0m\u001b[1;33m:\u001b[0m\u001b[1;33m,\u001b[0m\u001b[1;36m1\u001b[0m\u001b[1;33m,\u001b[0m\u001b[0mq\u001b[0m\u001b[1;33m]\u001b[0m \u001b[1;33m=\u001b[0m \u001b[0mconf_mat_1\u001b[0m\u001b[1;33m\u001b[0m\u001b[0m\n",
      "\u001b[1;31mNameError\u001b[0m: name 'np' is not defined"
     ]
    }
   ],
   "source": [
    "# Saving conf_mat into whole array\n",
    "conf_mat_collection[:,:,0] = conf_mat_1\n",
    "conf_mat_collection[:,:,1] = conf_mat_2\n",
    "conf_mat_collection[:,:,2] = conf_mat_3\n",
    "conf_mat_collection[:,:,3] = conf_mat_4\n",
    "conf_mat_collection[:,:,4] = conf_mat_5"
   ]
  },
  {
   "cell_type": "code",
   "execution_count": null,
   "metadata": {},
   "outputs": [],
   "source": [
    "# Saving files\n",
    "np.save('conf_mat_rfecv.npy', conf_mat_collection)\n",
    "np.savetxt('rfecv_features.txt', ind_rfecv)\n",
    "\n",
    "nifti1 = nib.Nifti1Image(ims1, affine = None)\n",
    "nib.save(nifti1, 'rfecv_S1.nii')\n",
    "nifti2 = nib.Nifti1Image(ims2, affine = None)\n",
    "nib.save(nifti2, 'rfecv_S2.nii')\n",
    "nifti3 = nib.Nifti1Image(ims3, affine = None)\n",
    "nib.save(nifti3, 'rfecv_S3.nii')\n",
    "nifti4 = nib.Nifti1Image(ims4, affine = None)\n",
    "nib.save(nifti4, 'rfecv_S4.nii')\n",
    "nifti5 = nib.Nifti1Image(ims5, affine = None)\n",
    "nib.save(nifti5, 'rfecv_S5.nii')"
   ]
  }
 ],
 "metadata": {
  "kernelspec": {
   "display_name": "Python 3",
   "language": "python",
   "name": "python3"
  },
  "language_info": {
   "codemirror_mode": {
    "name": "ipython",
    "version": 3
   },
   "file_extension": ".py",
   "mimetype": "text/x-python",
   "name": "python",
   "nbconvert_exporter": "python",
   "pygments_lexer": "ipython3",
   "version": "3.7.0"
  }
 },
 "nbformat": 4,
 "nbformat_minor": 2
}
