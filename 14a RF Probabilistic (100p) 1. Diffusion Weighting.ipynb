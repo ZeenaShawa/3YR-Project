{
 "cells": [
  {
   "cell_type": "markdown",
   "metadata": {},
   "source": [
    "<h1> Random Forest on Scan 11 </h1>"
   ]
  },
  {
   "cell_type": "code",
   "execution_count": 93,
   "metadata": {},
   "outputs": [],
   "source": [
    "# Load Libraries\n",
    "\n",
    "import os\n",
    "import numpy as np\n",
    "import nibabel as nib\n",
    "import matplotlib.pyplot as plt\n",
    "from scipy.optimize import least_squares\n",
    "from numpy import linalg as la\n",
    "\n",
    "from sklearn.ensemble import RandomForestClassifier\n",
    "from sklearn.datasets import make_classification\n",
    "\n",
    "import pandas as pd\n",
    "\n",
    "# Setting Constants\n",
    "\n",
    "TI_limit = 25; \n",
    "TR = 7500; # (7.5 sesconds) T1 affects next slive"
   ]
  },
  {
   "cell_type": "code",
   "execution_count": 94,
   "metadata": {},
   "outputs": [],
   "source": [
    "# Loading in Image \n",
    "\n",
    "img_nifti = nib.load(\"cdmri11_r.nii\")\n",
    "\n",
    "img =img_nifti.dataobj[:,:,:,:]\n"
   ]
  },
  {
   "cell_type": "code",
   "execution_count": 95,
   "metadata": {},
   "outputs": [],
   "source": [
    "# Loading in Mask\n",
    "\n",
    "mask_nifti = nib.load(\"cdmri11_mask.nii\")\n",
    "\n",
    "mask = mask_nifti.dataobj[:,:,:]"
   ]
  },
  {
   "cell_type": "code",
   "execution_count": 96,
   "metadata": {},
   "outputs": [],
   "source": [
    "# Final Image \n",
    "\n",
    "arr = img.copy()\n",
    "for i in range (0,1344):\n",
    "    arr[:,:,:,i] = mask*img[:,:,:,i]; "
   ]
  },
  {
   "cell_type": "code",
   "execution_count": 97,
   "metadata": {},
   "outputs": [
    {
     "data": {
      "text/plain": [
       "<matplotlib.image.AxesImage at 0x2ce94ed96d8>"
      ]
     },
     "execution_count": 97,
     "metadata": {},
     "output_type": "execute_result"
    },
    {
     "data": {
      "image/png": "[encoded data removed]",
      "text/plain": [
       "<Figure size 432x288 with 1 Axes>"
      ]
     },
     "metadata": {
      "needs_background": "light"
     },
     "output_type": "display_data"
    }
   ],
   "source": [
    "plt.imshow(arr[:,:,33,33])"
   ]
  },
  {
   "cell_type": "code",
   "execution_count": 98,
   "metadata": {},
   "outputs": [
    {
     "data": {
      "text/plain": [
       "(1344, 6)"
      ]
     },
     "execution_count": 98,
     "metadata": {},
     "output_type": "execute_result"
    }
   ],
   "source": [
    "# Importing Parameters\n",
    "\n",
    "p = np.loadtxt('parameters_new.txt')\n",
    "p.shape"
   ]
  },
  {
   "cell_type": "code",
   "execution_count": 99,
   "metadata": {},
   "outputs": [
    {
     "data": {
      "text/plain": [
       "array([[-7.1803e-01,  5.2602e-01, -4.5578e-01,  3.0000e+03,  2.0000e+01,\n",
       "         8.0000e+01],\n",
       "       [-7.1803e-01,  5.2602e-01, -4.5578e-01,  3.0000e+03,  1.2364e+03,\n",
       "         8.0000e+01],\n",
       "       [-7.1803e-01,  5.2602e-01, -4.5578e-01,  3.0000e+03,  2.4727e+03,\n",
       "         8.0000e+01],\n",
       "       ...,\n",
       "       [-6.8361e-01, -4.9906e-01,  5.3255e-01,  2.0000e+03,  2.2961e+03,\n",
       "         1.3000e+02],\n",
       "       [-6.8361e-01, -4.9906e-01,  5.3255e-01,  2.0000e+03,  3.5325e+03,\n",
       "         1.3000e+02],\n",
       "       [-6.8361e-01, -4.9906e-01,  5.3255e-01,  2.0000e+03,  7.3227e+03,\n",
       "         1.3000e+02]])"
      ]
     },
     "execution_count": 99,
     "metadata": {},
     "output_type": "execute_result"
    }
   ],
   "source": [
    "param = np.zeros([1344,6])\n",
    "param = p.copy()\n",
    "# Switching first two columns as:\n",
    "# [x y z] --> [y -x z] (scanner to measurement coordinate system)\n",
    "param[:, 0], param[:, 1] = p[:, 1], p[:, 0].copy()\n",
    "param[:,1] = -param[:,1]\n",
    "\n",
    "# had to check, but is correct\n",
    "# np.savetxt('changed_param.txt', param, fmt='%1.5f')\n",
    "\n",
    "param"
   ]
  },
  {
   "cell_type": "code",
   "execution_count": 100,
   "metadata": {},
   "outputs": [],
   "source": [
    "b = p[:,3]\n",
    "TI = p[:,4]\n",
    "TE = p[:,5]\n",
    "\n",
    "# Filter based on TI fulfilling condition\n",
    "vals = TI>TI_limit\n",
    "indices = np.where(TI>TI_limit)\n",
    "b0idx = np.where(b==0)   \n",
    "\n",
    "TI=TI[indices]\n",
    "TE=TE[indices]\n",
    "param=param[indices]\n",
    "b=b[indices]\n",
    "res_selected = arr[:,:,:,indices]"
   ]
  },
  {
   "cell_type": "code",
   "execution_count": 101,
   "metadata": {},
   "outputs": [],
   "source": [
    "# From Stackoverflow: https://stackoverflow.com/questions/45637778/how-to-find-intersect-indexes-and-values-in-python\n",
    "# Function takes unique elements from each array, puts them together, and concatenates\n",
    "import numpy as np\n",
    "def intersect_mtlb(a, b):\n",
    "    a1, ia = np.unique(a, return_index=True)\n",
    "    b1, ib = np.unique(b, return_index=True)\n",
    "    aux = np.concatenate((a1, b1))\n",
    "    aux.sort()\n",
    "    c = aux[:-1][aux[1:] == aux[:-1]]\n",
    "    return c, ia[np.isin(a1, c)], ib[np.isin(b1, c)]\n",
    "\n",
    "c, idx_b0, ib = intersect_mtlb(indices, b0idx )\n",
    "\n",
    "s0init = np.mean(arr[:,:,:,idx_b0], axis = 3) \n",
    "\n",
    "# Initial Values and Objective Function\n",
    "b=b/1000\n",
    "x0 = [300, 2, 1000, 100, 1, 1, 1, 0, 0, 0]"
   ]
  },
  {
   "cell_type": "markdown",
   "metadata": {},
   "source": [
    "<h3> Selecting for Mainly Diffusion Effects </h3> "
   ]
  },
  {
   "cell_type": "code",
   "execution_count": 127,
   "metadata": {},
   "outputs": [],
   "source": [
    "# Extract indices\n",
    "\n",
    "low_TE_ind = np.where(TE<100)\n",
    "high_TI_ind = np.where(TI>4600) # First trial was 1500\n",
    "diff_ind = np.intersect1d(high_TI_ind, low_TE_ind, assume_unique=True)"
   ]
  },
  {
   "cell_type": "code",
   "execution_count": 128,
   "metadata": {},
   "outputs": [
    {
     "data": {
      "text/plain": [
       "(32,)"
      ]
     },
     "execution_count": 128,
     "metadata": {},
     "output_type": "execute_result"
    }
   ],
   "source": [
    "diff_ind.shape"
   ]
  },
  {
   "cell_type": "code",
   "execution_count": 129,
   "metadata": {},
   "outputs": [],
   "source": [
    "# Select Relevant Data\n",
    "res_selected = res_selected[:,:,:,:,diff_ind]\n",
    "b = b[diff_ind]\n",
    "TI = TI[diff_ind]\n",
    "TE = TE[diff_ind]\n",
    "param = param[diff_ind,:]"
   ]
  },
  {
   "cell_type": "code",
   "execution_count": 130,
   "metadata": {},
   "outputs": [
    {
     "data": {
      "text/plain": [
       "[<matplotlib.lines.Line2D at 0x2cead44efd0>]"
      ]
     },
     "execution_count": 130,
     "metadata": {},
     "output_type": "execute_result"
    },
    {
     "data": {
      "image/png": "[encoded data removed]",
      "text/plain": [
       "<Figure size 432x288 with 1 Axes>"
      ]
     },
     "metadata": {
      "needs_background": "light"
     },
     "output_type": "display_data"
    }
   ],
   "source": [
    "plt.plot(res_selected[40,40,33,0,:])"
   ]
  },
  {
   "cell_type": "markdown",
   "metadata": {},
   "source": [
    "<h2> Creating Training and Test Sets </h2> "
   ]
  },
  {
   "cell_type": "code",
   "execution_count": 131,
   "metadata": {},
   "outputs": [],
   "source": [
    "# Importing Features\n",
    "\n",
    "CSF_im = nib.load(\"CSF_100_S11.nii\")\n",
    "WM_im = nib.load(\"WM_100_S11.nii\")\n",
    "GM_im = nib.load(\"GM_100_S11.nii\")\n"
   ]
  },
  {
   "cell_type": "code",
   "execution_count": 132,
   "metadata": {},
   "outputs": [],
   "source": [
    "Label_CSF = CSF_im.dataobj[:,:,:]\n",
    "Label_WM = WM_im.dataobj[:,:,:]\n",
    "Label_GM = GM_im.dataobj[:,:,:]"
   ]
  },
  {
   "cell_type": "code",
   "execution_count": 133,
   "metadata": {},
   "outputs": [
    {
     "data": {
      "text/plain": [
       "(32, 6)"
      ]
     },
     "execution_count": 133,
     "metadata": {},
     "output_type": "execute_result"
    }
   ],
   "source": [
    "param.shape"
   ]
  },
  {
   "cell_type": "code",
   "execution_count": 134,
   "metadata": {},
   "outputs": [
    {
     "data": {
      "text/plain": [
       "(1344, 6)"
      ]
     },
     "execution_count": 134,
     "metadata": {},
     "output_type": "execute_result"
    }
   ],
   "source": [
    "p.shape"
   ]
  },
  {
   "cell_type": "code",
   "execution_count": 135,
   "metadata": {},
   "outputs": [
    {
     "data": {
      "text/plain": [
       "(77, 92, 56, 1344)"
      ]
     },
     "execution_count": 135,
     "metadata": {},
     "output_type": "execute_result"
    }
   ],
   "source": [
    "arr.shape"
   ]
  },
  {
   "cell_type": "code",
   "execution_count": 136,
   "metadata": {},
   "outputs": [
    {
     "data": {
      "text/plain": [
       "(77, 92, 56, 32)"
      ]
     },
     "execution_count": 136,
     "metadata": {},
     "output_type": "execute_result"
    }
   ],
   "source": [
    "res_selected= np.squeeze(res_selected)\n",
    "res_selected.shape"
   ]
  },
  {
   "cell_type": "code",
   "execution_count": 137,
   "metadata": {},
   "outputs": [],
   "source": [
    "# Data Size\n",
    "CSF_num = np.asarray(np.nonzero(Label_CSF)).shape[1]\n",
    "WM_num = np.asarray(np.nonzero(Label_WM)).shape[1]\n",
    "GM_num = np.asarray(np.nonzero(Label_GM)).shape[1]\n",
    "rows = CSF_num + WM_num +GM_num"
   ]
  },
  {
   "cell_type": "code",
   "execution_count": 138,
   "metadata": {},
   "outputs": [
    {
     "data": {
      "text/plain": [
       "497"
      ]
     },
     "execution_count": 138,
     "metadata": {},
     "output_type": "execute_result"
    }
   ],
   "source": [
    "rows"
   ]
  },
  {
   "cell_type": "code",
   "execution_count": 139,
   "metadata": {},
   "outputs": [],
   "source": [
    "# Setting Key and Creating Labelled Data\n",
    "\n",
    "## Key ---------------------------------------\n",
    "# 1 - WM                                     \\\n",
    "# 2 - GM                                     \\\n",
    "# 3 - CSF                                    \\\n",
    "# --------------------------------------------\n",
    "\n",
    "# Creating Labelled Data\n",
    "labelled_data_org_pos = np.zeros([rows,4])\n",
    "   \n",
    " # WM values\n",
    "coords_WM = np.transpose(np.asarray((np.nonzero(Label_WM))))\n",
    "label_WM = np.c_[coords_WM, np.transpose(np.ones([1,WM_num]))]\n",
    "labelled_data_org_pos[0:WM_num,:] = label_WM\n",
    "\n",
    "# GM values\n",
    "coords_GM = np.transpose(np.asarray((np.nonzero(Label_GM))))\n",
    "label_GM = np.c_[coords_GM, np.transpose(2*np.ones([1,GM_num]))]\n",
    "labelled_data_org_pos[WM_num:(WM_num+GM_num),:] = label_GM\n",
    "    \n",
    "# CSF values\n",
    "coords_CSF = np.transpose(np.asarray((np.nonzero(Label_CSF))))\n",
    "label_CSF = np.concatenate((coords_CSF, np.transpose(3*np.ones([1,CSF_num]))),axis = 1 )\n",
    "labelled_data_org_pos[(WM_num+GM_num):(GM_num+CSF_num+WM_num),:] = label_CSF\n",
    "\n",
    "labelled_data_org_pos\n",
    "labelled_data_org_pos = labelled_data_org_pos.astype(int)"
   ]
  },
  {
   "cell_type": "code",
   "execution_count": 140,
   "metadata": {},
   "outputs": [],
   "source": [
    "total_num_labels = labelled_data_org_pos.shape[0]"
   ]
  },
  {
   "cell_type": "code",
   "execution_count": 141,
   "metadata": {},
   "outputs": [],
   "source": [
    "# Full Labelled Data\n",
    "col = param.shape[0]+1 ]\n",
    "param_num = param.shape[0]\n",
    "full_label_data = np.zeros([total_num_labels,col])\n",
    "full_label_data[:,-1] = labelled_data_org_pos[:,-1]\n",
    "unlabelled_data = res_selected.copy()\n",
    "for i in range (0,total_num_labels):\n",
    "    full_label_data[i,:-1] = res_selected[labelled_data_org_pos[i,0], labelled_data_org_pos[i,1], labelled_data_org_pos[i,2],:]\n",
    "    # unlabelled_data[labelled_data_org_pos[i,0], labelled_data_org_pos[i,1], labelled_data_org_pos[i,2],:] = np.nan\n",
    "    # help, is this necessary? "
   ]
  },
  {
   "cell_type": "code",
   "execution_count": 142,
   "metadata": {},
   "outputs": [
    {
     "data": {
      "text/plain": [
       "(77, 92, 56, 32)"
      ]
     },
     "execution_count": 142,
     "metadata": {},
     "output_type": "execute_result"
    }
   ],
   "source": [
    "res_selected.shape"
   ]
  },
  {
   "cell_type": "code",
   "execution_count": 143,
   "metadata": {},
   "outputs": [],
   "source": [
    "# Creating Train and Test Sets\n",
    "\n",
    "X_train = full_label_data[:,:-1]\n",
    "y_train = full_label_data[:,-1]\n",
    "X_test = np.reshape(unlabelled_data, (396704,param_num)) # checked that keeps structure by reshaping back and comparing to initial"
   ]
  },
  {
   "cell_type": "code",
   "execution_count": 144,
   "metadata": {},
   "outputs": [
    {
     "name": "stdout",
     "output_type": "stream",
     "text": [
      "Best classification score achieved using grid search: 0.975917591759176\n",
      "The parameters resulting in the best score are: depth 10,max_f 10 and n_estimators 50 \n"
     ]
    }
   ],
   "source": [
    "# Performing Random Forest Classification\n",
    "from sklearn.ensemble import RandomForestClassifier\n",
    "\n",
    "clf=RandomForestClassifier(max_depth=5, n_estimators=50, random_state=0)\n",
    "clf.fit(X_train,y_train)\n",
    "\n",
    "# Grid Search\n",
    "from sklearn.model_selection import GridSearchCV\n",
    "\n",
    "# Specify parameters and parameter distributions\n",
    "\n",
    "param_dist = {\"max_depth\": [3, 5, 10, 20, 50],\n",
    "              \"max_features\": np.linspace(10,param_num,5).astype(int),\n",
    "              \"n_estimators\": [10,20,50,100]\n",
    "              }\n",
    "\n",
    "# GridSearchCV Instance\n",
    "grid = GridSearchCV(estimator=clf, param_grid=param_dist,cv=5,iid=False)\n",
    "# Perform Grid Search  \n",
    "grid.fit(X_train, y_train)\n",
    "\n",
    "# summarize the results of the grid search\n",
    "print('Best classification score achieved using grid search:', grid.best_score_)\n",
    "print('The parameters resulting in the best score are: depth {},max_f {} and n_estimators {} '\\\n",
    "      .format(grid.best_estimator_.max_depth,grid.best_estimator_.max_features,\\\n",
    "              grid.best_estimator_.n_estimators))\n",
    "\n",
    "# Create RF model using optimised parameters\n",
    "clf=RandomForestClassifier(max_depth=grid.best_estimator_.max_depth,max_features=\\\n",
    "                            grid.best_estimator_.max_features,\\\n",
    "                            n_estimators=grid.best_estimator_.n_estimators,\n",
    "                            random_state=42)\n",
    "clf.fit(X_train,y_train)\n",
    "\n",
    "# Predict Labels\n",
    "y_predicted = clf.predict(X_test)\n",
    "y_predicted = np.reshape(y_predicted, (77, 92, 56))"
   ]
  },
  {
   "cell_type": "code",
   "execution_count": 145,
   "metadata": {},
   "outputs": [
    {
     "data": {
      "text/plain": [
       "<matplotlib.colorbar.Colorbar at 0x2ceb35eeb00>"
      ]
     },
     "execution_count": 145,
     "metadata": {},
     "output_type": "execute_result"
    },
    {
     "data": {
      "image/png": "[encoded data removed]",
      "text/plain": [
       "<Figure size 432x288 with 2 Axes>"
      ]
     },
     "metadata": {
      "needs_background": "light"
     },
     "output_type": "display_data"
    }
   ],
   "source": [
    "# Displaying Result\n",
    "result = y_predicted*mask\n",
    "plt.imshow(result[:,:,20])\n",
    "plt.colorbar()"
   ]
  },
  {
   "cell_type": "code",
   "execution_count": 146,
   "metadata": {},
   "outputs": [],
   "source": [
    "# Probabilistic Results\n",
    "predicted_probs = clf.predict_proba(X_test)\n",
    "predicted_probs = np.reshape(predicted_probs, (77, 92, 56, 3))\n",
    "\n",
    "# Creating pixel values as a weighted sum of colors\n",
    "predicted_probs_color = predicted_probs * 255 "
   ]
  },
  {
   "cell_type": "code",
   "execution_count": 147,
   "metadata": {},
   "outputs": [
    {
     "data": {
      "text/plain": [
       "Text(0.5, 1.0, 'Probabilistic Map 100p')"
      ]
     },
     "execution_count": 147,
     "metadata": {},
     "output_type": "execute_result"
    },
    {
     "data": {
      "image/png": "[encoded data removed]",
      "text/plain": [
       "<Figure size 432x288 with 1 Axes>"
      ]
     },
     "metadata": {
      "needs_background": "light"
     },
     "output_type": "display_data"
    }
   ],
   "source": [
    "# Displaying Result\n",
    "\n",
    "# 1 WM Red\n",
    "# 2 GM Green\n",
    "# 3 CSF Blue\n",
    "\n",
    "prob_result = predicted_probs_color;\n",
    "prob_result[:,:,:,0] = prob_result[:,:,:,0]*mask\n",
    "prob_result[:,:,:,1] = prob_result[:,:,:,1]*mask\n",
    "prob_result[:,:,:,2] = prob_result[:,:,:,2]*mask\n",
    "\n",
    "\n",
    "plt.imshow(prob_result[:,:,33,:].astype('uint8'))\n",
    "plt.title('Probabilistic Map 100p')"
   ]
  },
  {
   "cell_type": "code",
   "execution_count": null,
   "metadata": {},
   "outputs": [],
   "source": []
  }
 ],
 "metadata": {
  "kernelspec": {
   "display_name": "Python 3",
   "language": "python",
   "name": "python3"
  },
  "language_info": {
   "codemirror_mode": {
    "name": "ipython",
    "version": 3
   },
   "file_extension": ".py",
   "mimetype": "text/x-python",
   "name": "python",
   "nbconvert_exporter": "python",
   "pygments_lexer": "ipython3",
   "version": "3.7.0"
  }
 },
 "nbformat": 4,
 "nbformat_minor": 2
}
