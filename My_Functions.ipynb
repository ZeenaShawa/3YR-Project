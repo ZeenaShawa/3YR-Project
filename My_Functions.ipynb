{
 "cells": [
  {
   "cell_type": "code",
   "execution_count": 1,
   "metadata": {},
   "outputs": [],
   "source": [
    "def Maps(b, TI, TR, TE, param, slslice, boundaries):\n",
    "\n",
    "    # Perform Non-Linear Least Squares Fit\n",
    "\n",
    "    x0 = [300, 2, 1000, 100, 1, 1, 1,0,0,0]\n",
    "    # for x[4], values of 0.01, 1 would lead to a straight line at 0, \n",
    "    # while 10 and 100 works fine\n",
    "\n",
    "    lsr = least_squares(FitCost, x0, args=(b,TI, TR, TE, param, slslice), bounds=(boundaries), max_nfev=5000)\n",
    "    cost = lsr.cost\n",
    "    jac = lsr.jac\n",
    "    values = lsr.x\n",
    "\n",
    "    # Computing Mean Diffusivity\n",
    "    # Diffusion Tensor\n",
    "    D = [[values[4], values[7], values[8]], \n",
    "         [values[7], values[5], values[9]], \n",
    "         [values[8], values[9], values[6]]]\n",
    "\n",
    "    # Eigenvectors and Eigenvalues \n",
    "    [evals , evecs] = la.eig(D)\n",
    "    \n",
    "    # Calculating MD \n",
    "    MD = (evals[0]+evals[1]+evals[2])/3\n",
    "    FA = np.sqrt(1/2)*((np.sqrt((evals[0]-evals[1])**2+(evals[1]-evals[2])**2+(evals[2]-evals[0])**2))/np.sqrt(evals[0]**2+evals[1]**2+evals[2]**2))\n",
    "    return MD, values[1],values[2],values[3], cost, D, FA\n",
    "\n",
    "    # values[3]: T2* , [2]: T1, [1]: PD?, i.e. IE"
   ]
  },
  {
   "cell_type": "code",
   "execution_count": 2,
   "metadata": {},
   "outputs": [],
   "source": [
    "# Fit Function\n",
    "\n",
    "def Fit(x,b, TI, TR, TE, param):            \n",
    "\n",
    "    S= np.abs(x[0] *(1-x[1]* np.exp(-TI/x[2])+np.exp(-TR/x[2]))* np.exp(-TE/x[3])* np.exp(-b*(np.square(param[:,0])*x[4]+np.square(param[:,1])*x[5]+np.square(param[:,2])*x[6]+2*param[:,0]*param[:,1]*x[7]+2*param[:,0]*param[:,2]*x[8]+2*param[:,1]*param[:,2]*x[9])))\n",
    "    return S\n",
    "\n",
    "# Simple Exponential Cost Function\n",
    "\n",
    "def FitCost(x, b, TI, TR, TE, param, slslice):   \n",
    "    # x[0] : Amplitude\n",
    "    # x[1] : D value\n",
    "    \n",
    "    S= np.abs(x[0] *(1-x[1]* np.exp(-TI/x[2])+np.exp(-TR/x[2]))* np.exp(-TE/x[3])* np.exp(-b*(np.square(param[:,0])*x[4]+np.square(param[:,1])*x[5]+np.square(param[:,2])*x[6]+2*param[:,0]*param[:,1]*x[7]+2*param[:,0]*param[:,2]*x[8]+2*param[:,1]*param[:,2]*x[9])))\n",
    "    res = slslice[0,:] -S\n",
    "    return res"
   ]
  },
  {
   "cell_type": "code",
   "execution_count": null,
   "metadata": {},
   "outputs": [],
   "source": []
  }
 ],
 "metadata": {
  "kernelspec": {
   "display_name": "Python 3",
   "language": "python",
   "name": "python3"
  },
  "language_info": {
   "codemirror_mode": {
    "name": "ipython",
    "version": 3
   },
   "file_extension": ".py",
   "mimetype": "text/x-python",
   "name": "python",
   "nbconvert_exporter": "python",
   "pygments_lexer": "ipython3",
   "version": "3.7.0"
  }
 },
 "nbformat": 4,
 "nbformat_minor": 2
}
